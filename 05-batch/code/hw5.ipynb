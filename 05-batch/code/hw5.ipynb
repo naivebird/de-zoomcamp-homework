{
 "cells": [
  {
   "cell_type": "code",
   "execution_count": 114,
   "id": "18ae65d2-6b20-483a-aa23-b2699f59d0ac",
   "metadata": {},
   "outputs": [],
   "source": [
    "import pyspark\n",
    "from pyspark.sql import types\n",
    "from pyspark.sql import SparkSession\n",
    "from pyspark.sql import functions as F"
   ]
  },
  {
   "cell_type": "code",
   "execution_count": 115,
   "id": "a428b5e0-dfcf-4f76-99d4-b7476301afb8",
   "metadata": {},
   "outputs": [
    {
     "data": {
      "text/plain": [
       "'/home/duc/spark/spark-3.3.2-bin-hadoop3/python/pyspark/__init__.py'"
      ]
     },
     "execution_count": 115,
     "metadata": {},
     "output_type": "execute_result"
    }
   ],
   "source": [
    "pyspark.__file__"
   ]
  },
  {
   "cell_type": "code",
   "execution_count": 116,
   "id": "d431227a-c126-459a-a8ba-a44a59d9d40b",
   "metadata": {},
   "outputs": [],
   "source": [
    "spark = SparkSession.builder \\\n",
    "    .master(\"local[*]\") \\\n",
    "    .appName('test') \\\n",
    "    .getOrCreate()"
   ]
  },
  {
   "cell_type": "code",
   "execution_count": 117,
   "id": "62f09b4b-1e8b-4db2-a988-37d8946f4c6c",
   "metadata": {},
   "outputs": [
    {
     "data": {
      "text/plain": [
       "'3.3.2'"
      ]
     },
     "execution_count": 117,
     "metadata": {},
     "output_type": "execute_result"
    }
   ],
   "source": [
    "spark.version"
   ]
  },
  {
   "cell_type": "code",
   "execution_count": 118,
   "id": "23e0fd70-7bc0-4c47-b922-ad9e95fa5dae",
   "metadata": {},
   "outputs": [
    {
     "name": "stdout",
     "output_type": "stream",
     "text": [
      "--2025-03-02 05:55:42--  https://d37ci6vzurychx.cloudfront.net/trip-data/yellow_tripdata_2024-10.parquet\n",
      "Resolving d37ci6vzurychx.cloudfront.net (d37ci6vzurychx.cloudfront.net)... 52.84.160.213, 52.84.160.116, 52.84.160.84, ...\n",
      "Connecting to d37ci6vzurychx.cloudfront.net (d37ci6vzurychx.cloudfront.net)|52.84.160.213|:443... connected.\n",
      "HTTP request sent, awaiting response... 200 OK\n",
      "Length: 64346071 (61M) [binary/octet-stream]\n",
      "Saving to: ‘yellow_tripdata_2024-10.parquet’\n",
      "\n",
      "yellow_tripdata_202 100%[===================>]  61.36M  74.3MB/s    in 0.8s    \n",
      "\n",
      "2025-03-02 05:55:43 (74.3 MB/s) - ‘yellow_tripdata_2024-10.parquet’ saved [64346071/64346071]\n",
      "\n"
     ]
    }
   ],
   "source": [
    "!wget https://d37ci6vzurychx.cloudfront.net/trip-data/yellow_tripdata_2024-10.parquet"
   ]
  },
  {
   "cell_type": "code",
   "execution_count": null,
   "id": "61e9230a-4d52-47e0-97bb-f2626ffc43a0",
   "metadata": {},
   "outputs": [],
   "source": [
    "!wget https://d37ci6vzurychx.cloudfront.net/misc/taxi_zone_lookup.csv"
   ]
  },
  {
   "cell_type": "code",
   "execution_count": 119,
   "id": "56009d2f-563f-40ea-97eb-5d2d2b0c8319",
   "metadata": {},
   "outputs": [],
   "source": [
    "df = spark.read \\\n",
    "    .option(\"header\", \"true\") \\\n",
    "    .parquet('yellow_tripdata_2024-10.parquet')"
   ]
  },
  {
   "cell_type": "code",
   "execution_count": 120,
   "id": "06c5ccf4-aef2-4859-b59d-1463aaff871a",
   "metadata": {},
   "outputs": [
    {
     "name": "stderr",
     "output_type": "stream",
     "text": [
      "                                                                                \r"
     ]
    }
   ],
   "source": [
    "df.write.csv('data/csv/yellow/2024/10', mode='overwrite')"
   ]
  },
  {
   "cell_type": "code",
   "execution_count": 121,
   "id": "abdb7241-6fe9-46e6-ab08-df3b205945b3",
   "metadata": {},
   "outputs": [],
   "source": [
    "yellow_schema = types.StructType([\n",
    "    types.StructField(\"VendorID\", types.IntegerType(), True),\n",
    "    types.StructField(\"tpep_pickup_datetime\", types.TimestampType(), True),\n",
    "    types.StructField(\"tpep_dropoff_datetime\", types.TimestampType(), True),\n",
    "    types.StructField(\"passenger_count\", types.IntegerType(), True),\n",
    "    types.StructField(\"trip_distance\", types.DoubleType(), True),\n",
    "    types.StructField(\"RatecodeID\", types.IntegerType(), True),\n",
    "    types.StructField(\"store_and_fwd_flag\", types.StringType(), True),\n",
    "    types.StructField(\"PULocationID\", types.IntegerType(), True),\n",
    "    types.StructField(\"DOLocationID\", types.IntegerType(), True),\n",
    "    types.StructField(\"payment_type\", types.IntegerType(), True),\n",
    "    types.StructField(\"fare_amount\", types.DoubleType(), True),\n",
    "    types.StructField(\"extra\", types.DoubleType(), True),\n",
    "    types.StructField(\"mta_tax\", types.DoubleType(), True),\n",
    "    types.StructField(\"tip_amount\", types.DoubleType(), True),\n",
    "    types.StructField(\"tolls_amount\", types.DoubleType(), True),\n",
    "    types.StructField(\"improvement_surcharge\", types.DoubleType(), True),\n",
    "    types.StructField(\"total_amount\", types.DoubleType(), True),\n",
    "    types.StructField(\"congestion_surcharge\", types.DoubleType(), True),\n",
    "    types.StructField(\"Airport_fee\", types.DoubleType(), True)\n",
    "])"
   ]
  },
  {
   "cell_type": "code",
   "execution_count": 122,
   "id": "212aba0a-0bd6-40e1-aaa5-3b7d92ddd1f2",
   "metadata": {},
   "outputs": [
    {
     "name": "stdout",
     "output_type": "stream",
     "text": [
      "25/03/02 05:58:03 WARN CSVHeaderChecker: CSV header does not conform to the schema.\n",
      " Header: 2, 2024-10-10T20:28:12.000Z, 2024-10-10T20:31:40.000Z, 2, 0.44, 1, N, 239, 142, 1, 5.1, 1.0, 0.5, 2.52, 0.0, 1.0, 12.62, 2.5, 0.0\n",
      " Schema: VendorID, tpep_pickup_datetime, tpep_dropoff_datetime, passenger_count, trip_distance, RatecodeID, store_and_fwd_flag, PULocationID, DOLocationID, payment_type, fare_amount, extra, mta_tax, tip_amount, tolls_amount, improvement_surcharge, total_amount, congestion_surcharge, Airport_fee\n",
      "Expected: VendorID but found: 2\n",
      "CSV file: file:///home/duc/de-zoomcamp-homework/05-batch/code/yellow_tripdata_2024-10.csv/part-00001-40c66d59-b3b1-4559-8e67-dc6634109a81-c000.csv\n",
      "25/03/02 05:58:03 WARN CSVHeaderChecker: CSV header does not conform to the schema.\n",
      " Header: 2, 2024-10-29T14:15:13.000Z, 2024-10-29T14:22:03.000Z, 1, 0.41, 1, N, 236, 237, 1, 7.9, 0.0, 0.5, 2.38, 0.0, 1.0, 14.28, 2.5, 0.0\n",
      " Schema: VendorID, tpep_pickup_datetime, tpep_dropoff_datetime, passenger_count, trip_distance, RatecodeID, store_and_fwd_flag, PULocationID, DOLocationID, payment_type, fare_amount, extra, mta_tax, tip_amount, tolls_amount, improvement_surcharge, total_amount, congestion_surcharge, Airport_fee\n",
      "Expected: VendorID but found: 2\n",
      "CSV file: file:///home/duc/de-zoomcamp-homework/05-batch/code/yellow_tripdata_2024-10.csv/part-00003-40c66d59-b3b1-4559-8e67-dc6634109a81-c000.csv\n",
      "25/03/02 05:58:03 WARN CSVHeaderChecker: CSV header does not conform to the schema.\n",
      " Header: 2, 2024-10-01T00:30:44.000Z, 2024-10-01T00:48:26.000Z, 1, 3.0, 1, N, 162, 246, 1, 18.4, 1.0, 0.5, 1.5, 0.0, 1.0, 24.9, 2.5, 0.0\n",
      " Schema: VendorID, tpep_pickup_datetime, tpep_dropoff_datetime, passenger_count, trip_distance, RatecodeID, store_and_fwd_flag, PULocationID, DOLocationID, payment_type, fare_amount, extra, mta_tax, tip_amount, tolls_amount, improvement_surcharge, total_amount, congestion_surcharge, Airport_fee\n",
      "Expected: VendorID but found: 2\n",
      "CSV file: file:///home/duc/de-zoomcamp-homework/05-batch/code/yellow_tripdata_2024-10.csv/part-00000-40c66d59-b3b1-4559-8e67-dc6634109a81-c000.csv\n",
      "25/03/02 05:58:03 WARN CSVHeaderChecker: CSV header does not conform to the schema.\n",
      " Header: 1, 2024-10-20T02:10:29.000Z, 2024-10-20T02:20:47.000Z, 1, 1.5, 1, N, 230, 170, 1, 10.0, 3.5, 0.5, 3.0, 0.0, 1.0, 18.0, 2.5, 0.0\n",
      " Schema: VendorID, tpep_pickup_datetime, tpep_dropoff_datetime, passenger_count, trip_distance, RatecodeID, store_and_fwd_flag, PULocationID, DOLocationID, payment_type, fare_amount, extra, mta_tax, tip_amount, tolls_amount, improvement_surcharge, total_amount, congestion_surcharge, Airport_fee\n",
      "Expected: VendorID but found: 1\n",
      "CSV file: file:///home/duc/de-zoomcamp-homework/05-batch/code/yellow_tripdata_2024-10.csv/part-00002-40c66d59-b3b1-4559-8e67-dc6634109a81-c000.csv\n"
     ]
    },
    {
     "name": "stderr",
     "output_type": "stream",
     "text": [
      "                                                                                \r"
     ]
    }
   ],
   "source": [
    "year = 2024\n",
    "month = 10\n",
    "input_path = f'yellow_tripdata_{year}-{month:02d}.csv'\n",
    "df_yellow = spark.read \\\n",
    "        .option(\"header\", \"true\") \\\n",
    "        .schema(yellow_schema) \\\n",
    "        .csv(input_path)\n",
    "\n",
    "df_yellow \\\n",
    "    .repartition(4) \\\n",
    "    .write.parquet(f'data/pq/yellow/{year}/{month:02d}/', mode='overwrite')"
   ]
  },
  {
   "cell_type": "code",
   "execution_count": 123,
   "id": "3fb49dc4-c637-4c7a-b7f2-30094e298749",
   "metadata": {},
   "outputs": [],
   "source": [
    "df_yellow = spark.read.parquet('data/pq/yellow/*/*')"
   ]
  },
  {
   "cell_type": "code",
   "execution_count": 124,
   "id": "7251468a-4bcf-43dd-b89f-be970b7a85a8",
   "metadata": {},
   "outputs": [],
   "source": [
    "df_yellow = df_yellow \\\n",
    "    .withColumnRenamed('tpep_pickup_datetime', 'pickup_datetime') \\\n",
    "    .withColumnRenamed('tpep_dropoff_datetime', 'dropoff_datetime')"
   ]
  },
  {
   "cell_type": "code",
   "execution_count": 125,
   "id": "65a3197a-e86e-4a1e-b242-48b0dfbda684",
   "metadata": {},
   "outputs": [],
   "source": [
    "df_yellow.registerTempTable('yellow_trip_data')"
   ]
  },
  {
   "cell_type": "code",
   "execution_count": 126,
   "id": "01555efe-7d85-4b32-a43b-0a0036a85269",
   "metadata": {},
   "outputs": [
    {
     "name": "stderr",
     "output_type": "stream",
     "text": [
      "                                                                                \r"
     ]
    },
    {
     "data": {
      "text/plain": [
       "128893"
      ]
     },
     "execution_count": 126,
     "metadata": {},
     "output_type": "execute_result"
    }
   ],
   "source": [
    "df_yellow \\\n",
    "    .withColumn('pickup_date', F.to_date(df_yellow.pickup_datetime)) \\\n",
    "    .filter(\"pickup_date = '2024-10-15'\") \\\n",
    "    .count()"
   ]
  },
  {
   "cell_type": "code",
   "execution_count": 129,
   "id": "3e2db167-d7d2-41ef-bb94-225d7eef7b51",
   "metadata": {
    "scrolled": true
   },
   "outputs": [
    {
     "name": "stderr",
     "output_type": "stream",
     "text": [
      "[Stage 86:>                                                         (0 + 4) / 4]\r"
     ]
    },
    {
     "name": "stdout",
     "output_type": "stream",
     "text": [
      "+----------+--------+\n",
      "|      date|count(1)|\n",
      "+----------+--------+\n",
      "|2024-10-24|  137337|\n",
      "|2024-10-02|  113906|\n",
      "|2024-10-25|  136066|\n",
      "|2024-09-30|      12|\n",
      "|2024-10-22|  121106|\n",
      "|2024-10-18|  133213|\n",
      "|2024-10-08|  121402|\n",
      "|2024-10-10|  143205|\n",
      "|2024-10-20|  117128|\n",
      "|2024-10-01|  119117|\n",
      "|2024-10-04|  112431|\n",
      "|2024-10-15|  128893|\n",
      "|2024-10-28|  110595|\n",
      "|2024-10-29|  126930|\n",
      "|2024-10-17|  136330|\n",
      "|2024-10-31|  129394|\n",
      "|2024-10-07|  102014|\n",
      "|2024-11-01|      26|\n",
      "|2024-10-11|  128821|\n",
      "|2024-10-16|  134891|\n",
      "+----------+--------+\n",
      "only showing top 20 rows\n",
      "\n"
     ]
    },
    {
     "name": "stderr",
     "output_type": "stream",
     "text": [
      "                                                                                \r"
     ]
    }
   ],
   "source": [
    "spark.sql(\"\"\"\n",
    "SELECT\n",
    "    CAST(pickup_datetime AS DATE) as date,\n",
    "    count(*)\n",
    "FROM\n",
    "    yellow_trip_data\n",
    "GROUP BY date\n",
    "\"\"\").show()"
   ]
  },
  {
   "cell_type": "code",
   "execution_count": 130,
   "id": "4cb28c36-54d4-496d-969e-6f352a75663b",
   "metadata": {},
   "outputs": [
    {
     "name": "stderr",
     "output_type": "stream",
     "text": [
      "[Stage 89:>                                                         (0 + 4) / 4]\r"
     ]
    },
    {
     "name": "stdout",
     "output_type": "stream",
     "text": [
      "+------+\n",
      "|  diff|\n",
      "+------+\n",
      "|162.62|\n",
      "|143.33|\n",
      "|137.76|\n",
      "|114.83|\n",
      "|  89.9|\n",
      "| 89.45|\n",
      "|  70.3|\n",
      "| 67.57|\n",
      "| 66.07|\n",
      "| 46.42|\n",
      "| 42.31|\n",
      "| 38.47|\n",
      "| 33.95|\n",
      "|  26.3|\n",
      "| 25.29|\n",
      "| 25.24|\n",
      "| 24.47|\n",
      "|  24.0|\n",
      "|  24.0|\n",
      "| 23.99|\n",
      "+------+\n",
      "only showing top 20 rows\n",
      "\n"
     ]
    },
    {
     "name": "stderr",
     "output_type": "stream",
     "text": [
      "                                                                                \r"
     ]
    }
   ],
   "source": [
    "spark.sql(\"\"\"\n",
    "SELECT\n",
    "    ROUND((unix_timestamp(dropoff_datetime)-unix_timestamp(pickup_datetime)) / 3600,2) as diff\n",
    "FROM\n",
    "    yellow_trip_data\n",
    "ORDER BY diff DESC\n",
    "\"\"\").show()"
   ]
  },
  {
   "cell_type": "code",
   "execution_count": 131,
   "id": "4c31b501-150c-455b-8e74-864178a25c33",
   "metadata": {},
   "outputs": [],
   "source": [
    "zones = spark.read \\\n",
    "    .option(\"header\", \"true\") \\\n",
    "    .csv('taxi_zone_lookup.csv')"
   ]
  },
  {
   "cell_type": "code",
   "execution_count": 132,
   "id": "59c266a8-c0bf-494b-b7a3-f70f80680397",
   "metadata": {},
   "outputs": [
    {
     "name": "stdout",
     "output_type": "stream",
     "text": [
      "+----------+-------------+--------------------+------------+\n",
      "|LocationID|      Borough|                Zone|service_zone|\n",
      "+----------+-------------+--------------------+------------+\n",
      "|         1|          EWR|      Newark Airport|         EWR|\n",
      "|         2|       Queens|         Jamaica Bay|   Boro Zone|\n",
      "|         3|        Bronx|Allerton/Pelham G...|   Boro Zone|\n",
      "|         4|    Manhattan|       Alphabet City| Yellow Zone|\n",
      "|         5|Staten Island|       Arden Heights|   Boro Zone|\n",
      "|         6|Staten Island|Arrochar/Fort Wad...|   Boro Zone|\n",
      "|         7|       Queens|             Astoria|   Boro Zone|\n",
      "|         8|       Queens|        Astoria Park|   Boro Zone|\n",
      "|         9|       Queens|          Auburndale|   Boro Zone|\n",
      "|        10|       Queens|        Baisley Park|   Boro Zone|\n",
      "|        11|     Brooklyn|          Bath Beach|   Boro Zone|\n",
      "|        12|    Manhattan|        Battery Park| Yellow Zone|\n",
      "|        13|    Manhattan|   Battery Park City| Yellow Zone|\n",
      "|        14|     Brooklyn|           Bay Ridge|   Boro Zone|\n",
      "|        15|       Queens|Bay Terrace/Fort ...|   Boro Zone|\n",
      "|        16|       Queens|             Bayside|   Boro Zone|\n",
      "|        17|     Brooklyn|             Bedford|   Boro Zone|\n",
      "|        18|        Bronx|        Bedford Park|   Boro Zone|\n",
      "|        19|       Queens|           Bellerose|   Boro Zone|\n",
      "|        20|        Bronx|             Belmont|   Boro Zone|\n",
      "+----------+-------------+--------------------+------------+\n",
      "only showing top 20 rows\n",
      "\n"
     ]
    }
   ],
   "source": [
    "zones.show()"
   ]
  },
  {
   "cell_type": "code",
   "execution_count": 133,
   "id": "ba7476c0-e4f3-413c-b187-79937d91eaa8",
   "metadata": {},
   "outputs": [],
   "source": [
    "df_result = df_yellow.join(zones, df_yellow.PULocationID == zones.LocationID)\n"
   ]
  },
  {
   "cell_type": "code",
   "execution_count": 134,
   "id": "f2d3fd0b-4648-4528-b4f4-09e35672a89d",
   "metadata": {},
   "outputs": [],
   "source": [
    "df_result.registerTempTable('yellow_trip_data_with_zones')"
   ]
  },
  {
   "cell_type": "code",
   "execution_count": 136,
   "id": "ebcce3da-5ef1-4a35-b82b-1cff4b330fd0",
   "metadata": {},
   "outputs": [
    {
     "name": "stdout",
     "output_type": "stream",
     "text": [
      "+--------------------+----------+\n",
      "|                Zone|trip_count|\n",
      "+--------------------+----------+\n",
      "|Governor's Island...|         1|\n",
      "|       Arden Heights|         2|\n",
      "|       Rikers Island|         2|\n",
      "| Green-Wood Cemetery|         3|\n",
      "|         Jamaica Bay|         3|\n",
      "|Charleston/Totten...|         4|\n",
      "|       Port Richmond|         4|\n",
      "|   Rossville/Woodrow|         4|\n",
      "|Eltingville/Annad...|         4|\n",
      "|       West Brighton|         4|\n",
      "|         Great Kills|         6|\n",
      "|        Crotona Park|         6|\n",
      "|     Mariners Harbor|         7|\n",
      "|Heartland Village...|         7|\n",
      "|Saint George/New ...|         9|\n",
      "|             Oakwood|         9|\n",
      "|New Dorp/Midland ...|        10|\n",
      "|       Broad Channel|        10|\n",
      "|         Westerleigh|        12|\n",
      "|     Pelham Bay Park|        12|\n",
      "+--------------------+----------+\n",
      "only showing top 20 rows\n",
      "\n"
     ]
    },
    {
     "name": "stderr",
     "output_type": "stream",
     "text": [
      "                                                                                \r"
     ]
    }
   ],
   "source": [
    "spark.sql(\"\"\"\n",
    "SELECT\n",
    "    Zone,\n",
    "    count(*) AS trip_count\n",
    "FROM\n",
    "    yellow_trip_data_with_zones\n",
    "GROUP BY Zone\n",
    "ORDER BY trip_count\n",
    "\"\"\").show()"
   ]
  },
  {
   "cell_type": "code",
   "execution_count": null,
   "id": "394af484-a284-4a10-a35a-ff1d8099515c",
   "metadata": {},
   "outputs": [],
   "source": []
  }
 ],
 "metadata": {
  "kernelspec": {
   "display_name": "Python 3 (ipykernel)",
   "language": "python",
   "name": "python3"
  },
  "language_info": {
   "codemirror_mode": {
    "name": "ipython",
    "version": 3
   },
   "file_extension": ".py",
   "mimetype": "text/x-python",
   "name": "python",
   "nbconvert_exporter": "python",
   "pygments_lexer": "ipython3",
   "version": "3.12.2"
  }
 },
 "nbformat": 4,
 "nbformat_minor": 5
}
